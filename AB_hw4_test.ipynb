{
 "cells": [
  {
   "cell_type": "markdown",
   "metadata": {},
   "source": [
    "# Выбираем группы и разделяем на A/Б"
   ]
  },
  {
   "cell_type": "markdown",
   "metadata": {},
   "source": [
    "Выберите две из следующих особенностей в данных и придумайте для них А/Б тест.\n",
    "\n",
    "Surge => более низкая price-to-order конверсия  \n",
    "Android => более высокие юзерские отмены  \n",
    "Заказ из центра => более низкие юзерские отмены  \n",
    "Comfort & Business классы => более низкие юзерские отмены, более длинные поездк  \n",
    "Сформулируйте гипотезы по всем правилам  \n",
    "Для описанных А/Б тестов разбейте юзеров на группы с помощью рандома  \n",
    "\n",
    "Простой трек:  \n",
    "1 Проверьте однородность с помощью t-теста, предполагая, что ЦПТ выполняется  \n",
    "\n",
    "Средний трек:  \n",
    "2 Проверьте однородность с помощью рангового критерия  \n",
    "\n",
    "Сложный трек:  \n",
    "3 Проверьте однородность с помощью бакетинга/бутстрапа  "
   ]
  },
  {
   "cell_type": "markdown",
   "metadata": {},
   "source": [
    "Date - датасессии  \n",
    "●User_id - id пользователя  \n",
    "●Hour - час стартасессии  \n",
    "●App_opened - приложение открыто  \n",
    "●Price_seen - пользователь ввел данные маршрута и показана цена  \n",
    "●Order_made - пользователь кликнул по кнопке заказа  \n",
    "●Surge - в этот период был включен surge (надбавка к стоимости поездки в период повышенного спроса)  \n",
    "●Ride_completed - поездка успешно завершена  \n",
    "●User_cancelled - пользователь отменил поездку  \n",
    "●Age - возраст пользователя  \n",
    "●Os - операционная система на телефоне  \n",
    "●City_center_order - заказ был сделан из центра города  \n",
    "●Order_class - класс поездки  \n",
    "●Distance - дистанция в км  \n",
    "●Rfm - rfm-сегмент пользователя"
   ]
  },
  {
   "cell_type": "code",
   "execution_count": 5,
   "metadata": {},
   "outputs": [],
   "source": [
    "import pandas as pd\n",
    "import numpy as np\n",
    "from scipy import stats as st\n",
    "from scipy.stats import mannwhitneyu\n",
    "from scipy.stats import norm\n",
    "import random"
   ]
  },
  {
   "cell_type": "code",
   "execution_count": 2,
   "metadata": {},
   "outputs": [
    {
     "data": {
      "text/html": [
       "<style>.container { width:100% !important; }</style>"
      ],
      "text/plain": [
       "<IPython.core.display.HTML object>"
      ]
     },
     "metadata": {},
     "output_type": "display_data"
    }
   ],
   "source": [
    "from IPython.core.display import display, HTML\n",
    "display(HTML(\"<style>.container { width:100% !important; }</style>\"))"
   ]
  },
  {
   "cell_type": "code",
   "execution_count": 3,
   "metadata": {},
   "outputs": [
    {
     "data": {
      "text/html": [
       "<div>\n",
       "<style scoped>\n",
       "    .dataframe tbody tr th:only-of-type {\n",
       "        vertical-align: middle;\n",
       "    }\n",
       "\n",
       "    .dataframe tbody tr th {\n",
       "        vertical-align: top;\n",
       "    }\n",
       "\n",
       "    .dataframe thead th {\n",
       "        text-align: right;\n",
       "    }\n",
       "</style>\n",
       "<table border=\"1\" class=\"dataframe\">\n",
       "  <thead>\n",
       "    <tr style=\"text-align: right;\">\n",
       "      <th></th>\n",
       "      <th>Unnamed: 0</th>\n",
       "      <th>date</th>\n",
       "      <th>user_id</th>\n",
       "      <th>hour</th>\n",
       "      <th>app_opened</th>\n",
       "      <th>price_seen</th>\n",
       "      <th>order_made</th>\n",
       "      <th>surge</th>\n",
       "      <th>ride_completed</th>\n",
       "      <th>user_cancelled</th>\n",
       "      <th>age</th>\n",
       "      <th>os</th>\n",
       "      <th>city_center_order</th>\n",
       "      <th>order_class</th>\n",
       "      <th>distance</th>\n",
       "      <th>rfm</th>\n",
       "    </tr>\n",
       "  </thead>\n",
       "  <tbody>\n",
       "    <tr>\n",
       "      <th>0</th>\n",
       "      <td>0</td>\n",
       "      <td>2020-05-21</td>\n",
       "      <td>867689</td>\n",
       "      <td>12</td>\n",
       "      <td>1</td>\n",
       "      <td>1</td>\n",
       "      <td>1</td>\n",
       "      <td>no surge</td>\n",
       "      <td>1</td>\n",
       "      <td>0</td>\n",
       "      <td>20</td>\n",
       "      <td>iOS</td>\n",
       "      <td>0</td>\n",
       "      <td>business</td>\n",
       "      <td>7.982135</td>\n",
       "      <td>low</td>\n",
       "    </tr>\n",
       "    <tr>\n",
       "      <th>1</th>\n",
       "      <td>1</td>\n",
       "      <td>2020-05-23</td>\n",
       "      <td>752172</td>\n",
       "      <td>5</td>\n",
       "      <td>1</td>\n",
       "      <td>1</td>\n",
       "      <td>1</td>\n",
       "      <td>no surge</td>\n",
       "      <td>1</td>\n",
       "      <td>0</td>\n",
       "      <td>37</td>\n",
       "      <td>Android</td>\n",
       "      <td>1</td>\n",
       "      <td>economy</td>\n",
       "      <td>2.908468</td>\n",
       "      <td>high</td>\n",
       "    </tr>\n",
       "    <tr>\n",
       "      <th>2</th>\n",
       "      <td>2</td>\n",
       "      <td>2020-05-20</td>\n",
       "      <td>486559</td>\n",
       "      <td>15</td>\n",
       "      <td>1</td>\n",
       "      <td>1</td>\n",
       "      <td>1</td>\n",
       "      <td>no surge</td>\n",
       "      <td>1</td>\n",
       "      <td>0</td>\n",
       "      <td>47</td>\n",
       "      <td>Android</td>\n",
       "      <td>0</td>\n",
       "      <td>comfort</td>\n",
       "      <td>7.224614</td>\n",
       "      <td>low</td>\n",
       "    </tr>\n",
       "    <tr>\n",
       "      <th>3</th>\n",
       "      <td>3</td>\n",
       "      <td>2020-05-19</td>\n",
       "      <td>304024</td>\n",
       "      <td>0</td>\n",
       "      <td>1</td>\n",
       "      <td>1</td>\n",
       "      <td>1</td>\n",
       "      <td>no surge</td>\n",
       "      <td>1</td>\n",
       "      <td>0</td>\n",
       "      <td>59</td>\n",
       "      <td>Android</td>\n",
       "      <td>1</td>\n",
       "      <td>economy</td>\n",
       "      <td>1.874349</td>\n",
       "      <td>low</td>\n",
       "    </tr>\n",
       "    <tr>\n",
       "      <th>4</th>\n",
       "      <td>4</td>\n",
       "      <td>2020-05-23</td>\n",
       "      <td>139420</td>\n",
       "      <td>0</td>\n",
       "      <td>1</td>\n",
       "      <td>1</td>\n",
       "      <td>1</td>\n",
       "      <td>no surge</td>\n",
       "      <td>1</td>\n",
       "      <td>0</td>\n",
       "      <td>19</td>\n",
       "      <td>Android</td>\n",
       "      <td>0</td>\n",
       "      <td>business</td>\n",
       "      <td>10.704778</td>\n",
       "      <td>medium</td>\n",
       "    </tr>\n",
       "  </tbody>\n",
       "</table>\n",
       "</div>"
      ],
      "text/plain": [
       "   Unnamed: 0        date  user_id  hour  app_opened  price_seen  order_made  \\\n",
       "0           0  2020-05-21   867689    12           1           1           1   \n",
       "1           1  2020-05-23   752172     5           1           1           1   \n",
       "2           2  2020-05-20   486559    15           1           1           1   \n",
       "3           3  2020-05-19   304024     0           1           1           1   \n",
       "4           4  2020-05-23   139420     0           1           1           1   \n",
       "\n",
       "      surge  ride_completed  user_cancelled  age       os  city_center_order  \\\n",
       "0  no surge               1               0   20      iOS                  0   \n",
       "1  no surge               1               0   37  Android                  1   \n",
       "2  no surge               1               0   47  Android                  0   \n",
       "3  no surge               1               0   59  Android                  1   \n",
       "4  no surge               1               0   19  Android                  0   \n",
       "\n",
       "  order_class   distance     rfm  \n",
       "0    business   7.982135     low  \n",
       "1     economy   2.908468    high  \n",
       "2     comfort   7.224614     low  \n",
       "3     economy   1.874349     low  \n",
       "4    business  10.704778  medium  "
      ]
     },
     "execution_count": 3,
     "metadata": {},
     "output_type": "execute_result"
    }
   ],
   "source": [
    "df = pd.read_csv('Netology_A_B-testing_HW_1.csv')\n",
    "df.head()"
   ]
  },
  {
   "cell_type": "code",
   "execution_count": 4,
   "metadata": {},
   "outputs": [
    {
     "data": {
      "text/html": [
       "<div>\n",
       "<style scoped>\n",
       "    .dataframe tbody tr th:only-of-type {\n",
       "        vertical-align: middle;\n",
       "    }\n",
       "\n",
       "    .dataframe tbody tr th {\n",
       "        vertical-align: top;\n",
       "    }\n",
       "\n",
       "    .dataframe thead th {\n",
       "        text-align: right;\n",
       "    }\n",
       "</style>\n",
       "<table border=\"1\" class=\"dataframe\">\n",
       "  <thead>\n",
       "    <tr style=\"text-align: right;\">\n",
       "      <th></th>\n",
       "      <th>Unnamed: 0</th>\n",
       "      <th>user_id</th>\n",
       "      <th>hour</th>\n",
       "      <th>app_opened</th>\n",
       "      <th>price_seen</th>\n",
       "      <th>order_made</th>\n",
       "      <th>ride_completed</th>\n",
       "      <th>user_cancelled</th>\n",
       "      <th>age</th>\n",
       "      <th>city_center_order</th>\n",
       "      <th>distance</th>\n",
       "    </tr>\n",
       "  </thead>\n",
       "  <tbody>\n",
       "    <tr>\n",
       "      <th>count</th>\n",
       "      <td>101500.000000</td>\n",
       "      <td>101500.000000</td>\n",
       "      <td>101500.000000</td>\n",
       "      <td>101500.0</td>\n",
       "      <td>101500.000000</td>\n",
       "      <td>101500.000000</td>\n",
       "      <td>101500.000000</td>\n",
       "      <td>101500.000000</td>\n",
       "      <td>101500.000000</td>\n",
       "      <td>101500.000000</td>\n",
       "      <td>91431.000000</td>\n",
       "    </tr>\n",
       "    <tr>\n",
       "      <th>mean</th>\n",
       "      <td>50749.500000</td>\n",
       "      <td>549874.802207</td>\n",
       "      <td>11.481429</td>\n",
       "      <td>1.0</td>\n",
       "      <td>0.900798</td>\n",
       "      <td>0.731389</td>\n",
       "      <td>0.620365</td>\n",
       "      <td>0.111025</td>\n",
       "      <td>40.471764</td>\n",
       "      <td>0.571675</td>\n",
       "      <td>5.371152</td>\n",
       "    </tr>\n",
       "    <tr>\n",
       "      <th>std</th>\n",
       "      <td>29300.670499</td>\n",
       "      <td>258600.104176</td>\n",
       "      <td>6.917522</td>\n",
       "      <td>0.0</td>\n",
       "      <td>0.298934</td>\n",
       "      <td>0.443239</td>\n",
       "      <td>0.485299</td>\n",
       "      <td>0.314164</td>\n",
       "      <td>13.536322</td>\n",
       "      <td>0.494838</td>\n",
       "      <td>4.118531</td>\n",
       "    </tr>\n",
       "    <tr>\n",
       "      <th>min</th>\n",
       "      <td>0.000000</td>\n",
       "      <td>100093.000000</td>\n",
       "      <td>0.000000</td>\n",
       "      <td>1.0</td>\n",
       "      <td>0.000000</td>\n",
       "      <td>0.000000</td>\n",
       "      <td>0.000000</td>\n",
       "      <td>0.000000</td>\n",
       "      <td>18.000000</td>\n",
       "      <td>0.000000</td>\n",
       "      <td>0.010946</td>\n",
       "    </tr>\n",
       "    <tr>\n",
       "      <th>25%</th>\n",
       "      <td>25374.750000</td>\n",
       "      <td>328223.000000</td>\n",
       "      <td>5.000000</td>\n",
       "      <td>1.0</td>\n",
       "      <td>1.000000</td>\n",
       "      <td>0.000000</td>\n",
       "      <td>0.000000</td>\n",
       "      <td>0.000000</td>\n",
       "      <td>29.000000</td>\n",
       "      <td>0.000000</td>\n",
       "      <td>2.438335</td>\n",
       "    </tr>\n",
       "    <tr>\n",
       "      <th>50%</th>\n",
       "      <td>50749.500000</td>\n",
       "      <td>548827.000000</td>\n",
       "      <td>11.000000</td>\n",
       "      <td>1.0</td>\n",
       "      <td>1.000000</td>\n",
       "      <td>1.000000</td>\n",
       "      <td>1.000000</td>\n",
       "      <td>0.000000</td>\n",
       "      <td>40.000000</td>\n",
       "      <td>1.000000</td>\n",
       "      <td>4.279565</td>\n",
       "    </tr>\n",
       "    <tr>\n",
       "      <th>75%</th>\n",
       "      <td>76124.250000</td>\n",
       "      <td>773051.000000</td>\n",
       "      <td>17.000000</td>\n",
       "      <td>1.0</td>\n",
       "      <td>1.000000</td>\n",
       "      <td>1.000000</td>\n",
       "      <td>1.000000</td>\n",
       "      <td>0.000000</td>\n",
       "      <td>52.000000</td>\n",
       "      <td>1.000000</td>\n",
       "      <td>7.129814</td>\n",
       "    </tr>\n",
       "    <tr>\n",
       "      <th>max</th>\n",
       "      <td>101499.000000</td>\n",
       "      <td>999978.000000</td>\n",
       "      <td>23.000000</td>\n",
       "      <td>1.0</td>\n",
       "      <td>1.000000</td>\n",
       "      <td>1.000000</td>\n",
       "      <td>1.000000</td>\n",
       "      <td>1.000000</td>\n",
       "      <td>69.000000</td>\n",
       "      <td>1.000000</td>\n",
       "      <td>40.268966</td>\n",
       "    </tr>\n",
       "  </tbody>\n",
       "</table>\n",
       "</div>"
      ],
      "text/plain": [
       "          Unnamed: 0        user_id           hour  app_opened     price_seen  \\\n",
       "count  101500.000000  101500.000000  101500.000000    101500.0  101500.000000   \n",
       "mean    50749.500000  549874.802207      11.481429         1.0       0.900798   \n",
       "std     29300.670499  258600.104176       6.917522         0.0       0.298934   \n",
       "min         0.000000  100093.000000       0.000000         1.0       0.000000   \n",
       "25%     25374.750000  328223.000000       5.000000         1.0       1.000000   \n",
       "50%     50749.500000  548827.000000      11.000000         1.0       1.000000   \n",
       "75%     76124.250000  773051.000000      17.000000         1.0       1.000000   \n",
       "max    101499.000000  999978.000000      23.000000         1.0       1.000000   \n",
       "\n",
       "          order_made  ride_completed  user_cancelled            age  \\\n",
       "count  101500.000000   101500.000000   101500.000000  101500.000000   \n",
       "mean        0.731389        0.620365        0.111025      40.471764   \n",
       "std         0.443239        0.485299        0.314164      13.536322   \n",
       "min         0.000000        0.000000        0.000000      18.000000   \n",
       "25%         0.000000        0.000000        0.000000      29.000000   \n",
       "50%         1.000000        1.000000        0.000000      40.000000   \n",
       "75%         1.000000        1.000000        0.000000      52.000000   \n",
       "max         1.000000        1.000000        1.000000      69.000000   \n",
       "\n",
       "       city_center_order      distance  \n",
       "count      101500.000000  91431.000000  \n",
       "mean            0.571675      5.371152  \n",
       "std             0.494838      4.118531  \n",
       "min             0.000000      0.010946  \n",
       "25%             0.000000      2.438335  \n",
       "50%             1.000000      4.279565  \n",
       "75%             1.000000      7.129814  \n",
       "max             1.000000     40.268966  "
      ]
     },
     "execution_count": 4,
     "metadata": {},
     "output_type": "execute_result"
    }
   ],
   "source": [
    "df.describe()"
   ]
  },
  {
   "cell_type": "markdown",
   "metadata": {},
   "source": [
    "**Surge => более низкая price-to-order конверсия**"
   ]
  },
  {
   "cell_type": "markdown",
   "metadata": {},
   "source": [
    "H0: Конверсия заказов не отличается в моменты повышенного спроса и в обычное время"
   ]
  },
  {
   "cell_type": "code",
   "execution_count": 11,
   "metadata": {},
   "outputs": [
    {
     "name": "stdout",
     "output_type": "stream",
     "text": [
      "31643\n",
      "59788\n",
      "17780\n",
      "17780\n"
     ]
    }
   ],
   "source": [
    "# разделим датафрейм по целевой метрике\n",
    "df_surge = df[ (df['price_seen'] == 1) & (df['surge'] == 'surge') ]\n",
    "df_nosurge = df[ (df['price_seen'] == 1) & (df['surge'] == 'no surge')]\n",
    "print(len(df_surge))\n",
    "print(len(df_nosurge))\n",
    "\n",
    "# оставим только уникальных пользователей и усредним показатели\n",
    "df_surge_uniq = df_surge.groupby(['user_id']).mean().reset_index()\n",
    "df_nosurge_uniq = df_nosurge.groupby(['user_id']).mean().reset_index()\n",
    "print(len(df_surge_uniq))\n",
    "print(len(df_surge_uniq))"
   ]
  },
  {
   "cell_type": "markdown",
   "metadata": {},
   "source": [
    "Для описанных А/Б тестов разбейте юзеров на группы с помощью рандома"
   ]
  },
  {
   "cell_type": "code",
   "execution_count": 20,
   "metadata": {},
   "outputs": [],
   "source": [
    "# Для описанных А/Б тестов разбейте юзеров на группы с помощью рандома\n",
    "# https://pandas.pydata.org/pandas-docs/stable/reference/api/pandas.DataFrame.sample.html\n",
    "\n",
    "# в подвыборке оставим 3000 пользователей, т.к. для стат.тестов минимальный порог 2500\n",
    "\n",
    "df_surge_uniq_sample = df_surge_uniq.sample(n=3000, random_state=1)\n",
    "df_nosurge_uniq_sample = df_nosurge_uniq.sample(n=3000, random_state=1)"
   ]
  },
  {
   "cell_type": "code",
   "execution_count": 26,
   "metadata": {},
   "outputs": [
    {
     "name": "stdout",
     "output_type": "stream",
     "text": [
      "конерсия полной выборки уникальных пользователей в часы пик 0.7235210107665058\n",
      "конерсия подвыборки 3000 уникальных пользователей в часы пик 0.7357865079365088\n",
      "конерсия полной выборки уникальных пользователей в обычное время 0.8598660942214601\n",
      "конерсия подвыборки 3000 уникальных пользователей в обычное время 0.8628289682539685\n"
     ]
    }
   ],
   "source": [
    "# проверим конверсию для выборки и подвыборки\n",
    "print('конерсия полной выборки уникальных пользователей в часы пик', df_surge_uniq['order_made'].mean())\n",
    "print('конерсия подвыборки 3000 уникальных пользователей в часы пик', df_surge_uniq_sample['order_made'].mean())\n",
    "\n",
    "print('конерсия полной выборки уникальных пользователей в обычное время', df_nosurge_uniq['order_made'].mean())\n",
    "print('конерсия подвыборки 3000 уникальных пользователей в обычное время', df_nosurge_uniq_sample['order_made'].mean())"
   ]
  },
  {
   "cell_type": "code",
   "execution_count": null,
   "metadata": {},
   "outputs": [],
   "source": []
  },
  {
   "cell_type": "markdown",
   "metadata": {},
   "source": [
    "Проверьте однородность с помощью t-теста, предполагая, что ЦПТ выполняется"
   ]
  },
  {
   "cell_type": "code",
   "execution_count": 21,
   "metadata": {},
   "outputs": [
    {
     "name": "stdout",
     "output_type": "stream",
     "text": [
      "Отвергаем нулевую гипотезу, конверсия в часы пик отличается, statistic - -15.81287648523105  pvalue - 0.0\n"
     ]
    }
   ],
   "source": [
    "result_tt = st.ttest_ind(df_surge_uniq_sample['order_made'], df_nosurge_uniq_sample['order_made'], equal_var=False)\n",
    "alpha = 0.05\n",
    "if (result_tt.pvalue < alpha):\n",
    "    print(f'Отвергаем нулевую гипотезу, конверсия в часы пик отличается, statistic - {result_tt.statistic}  pvalue - {round(result_tt.pvalue, 5)}')\n",
    "else:\n",
    "    print(f'Не отвергаем нулевую гипотезу конверсия одинаковая, statistic - {result_tt.statistic}  pvalue - {round(result_tt.pvalue, 5)}')"
   ]
  },
  {
   "cell_type": "markdown",
   "metadata": {},
   "source": [
    "statistic отрицательный, следовательно, конверсия в часы пик ниже"
   ]
  },
  {
   "cell_type": "code",
   "execution_count": null,
   "metadata": {},
   "outputs": [],
   "source": []
  },
  {
   "cell_type": "markdown",
   "metadata": {},
   "source": [
    "Проверьте однородность с помощью рангового критерия"
   ]
  },
  {
   "cell_type": "code",
   "execution_count": 22,
   "metadata": {},
   "outputs": [
    {
     "name": "stdout",
     "output_type": "stream",
     "text": [
      "конверсия различается. statistic - 3880550.5 pvalue - 0.0\n"
     ]
    }
   ],
   "source": [
    "result_mw = mannwhitneyu(df_surge_uniq_sample['order_made'], df_nosurge_uniq_sample['order_made'])\n",
    "if result_mw.pvalue < alpha and result_mw.statistic > 0:\n",
    "    print(f'конверсия различается. statistic - {result_mw.statistic} pvalue - {round(result_mw.pvalue, 5)}')\n",
    "else:\n",
    "    print(f'конверсия не различается. statistic - {result_mw.statistic} pvalue - {round(result_mw.pvalue, 5)}')"
   ]
  },
  {
   "cell_type": "markdown",
   "metadata": {},
   "source": [
    "тест Манн-Уитни тоже показывает, что statistic отрицательный - конверсия в часы пик ниже"
   ]
  },
  {
   "cell_type": "code",
   "execution_count": null,
   "metadata": {},
   "outputs": [],
   "source": []
  },
  {
   "cell_type": "markdown",
   "metadata": {},
   "source": [
    "Проверьте однородность с помощью бакетинга/бутстрапа"
   ]
  },
  {
   "cell_type": "markdown",
   "metadata": {},
   "source": [
    "бутстрап"
   ]
  },
  {
   "cell_type": "code",
   "execution_count": 24,
   "metadata": {},
   "outputs": [
    {
     "name": "stdout",
     "output_type": "stream",
     "text": [
      "конверсия в обычные часы выше, чем в часы пик. pvalue - 0.0, доверительный интервал [0.11, 0.14]\n"
     ]
    }
   ],
   "source": [
    "means = []\n",
    "for i in range(10000):\n",
    "    surge = df_surge_uniq_sample.sample(frac=1, replace=True).order_made.mean()\n",
    "    nosurge = df_nosurge_uniq_sample.sample(frac=1, replace=True).order_made.mean()\n",
    "    means.append(nosurge - surge)\n",
    "#расчет доверительного интервала\n",
    "pd_means = pd.DataFrame(means)\n",
    "confidence_interval = pd_means.quantile([0.025, 0.975])\n",
    "#расчет p_value\n",
    "p_1 = norm.cdf(x = 0, loc = np.mean(means), scale = np.std(means))\n",
    "p_2 = norm.cdf(x = 0, loc = -np.mean(means), scale = np.std(means))\n",
    "p_value = min(p_1, p_2) * 2\n",
    "if p_value < alpha and list(confidence_interval[0])[0] > 0:\n",
    "    print(f'конверсия в обычные часы выше, чем в часы пик. pvalue - {round(p_value, 5)}, доверительный интервал {[round(v,2) for v in confidence_interval[0].tolist()]}')\n",
    "elif p_value < alpha and list(confidence_interval[0])[0] < 0:      \n",
    "    print(f'конверсия в обычные часы ниже, чем в часы пик. pvalue - {round(p_value, 5)}, доверительный интервал {[round(v,2) for v in confidence_interval[0].tolist()]}')\n",
    "else:\n",
    "    print(f'конверсия не различается. pvalue - {round(p_value, 5)}, доверительный интервал {[round(v,2) for v in confidence_interval[0].tolist()]}')"
   ]
  },
  {
   "cell_type": "code",
   "execution_count": null,
   "metadata": {},
   "outputs": [],
   "source": []
  },
  {
   "cell_type": "markdown",
   "metadata": {},
   "source": [
    "**Android => более высокие юзерские отмены**"
   ]
  },
  {
   "cell_type": "markdown",
   "metadata": {},
   "source": [
    "H0: количество отказов не зависит от используемой операционной системы"
   ]
  },
  {
   "cell_type": "code",
   "execution_count": 32,
   "metadata": {},
   "outputs": [
    {
     "name": "stdout",
     "output_type": "stream",
     "text": [
      "41382\n",
      "50049\n",
      "19988\n",
      "21397\n"
     ]
    }
   ],
   "source": [
    "# разделим датафрейм по целевой метрике\n",
    "df_ios = df[ (df['os'] == 'iOS') & (df['price_seen'] == 1) ]\n",
    "df_android = df[ (df['os'] == 'Android') & (df['price_seen'] == 1)]\n",
    "print(len(df_ios))\n",
    "print(len(df_android))\n",
    "\n",
    "# оставим только уникальных пользователей и усредним показатели\n",
    "df_ios_uniq = df_ios.groupby(['user_id']).mean().reset_index()\n",
    "df_android_uniq = df_android.groupby(['user_id']).mean().reset_index()\n",
    "print(len(df_ios_uniq))\n",
    "print(len(df_android_uniq))"
   ]
  },
  {
   "cell_type": "markdown",
   "metadata": {},
   "source": [
    "Для описанных А/Б тестов разбейте юзеров на группы с помощью рандома"
   ]
  },
  {
   "cell_type": "code",
   "execution_count": 33,
   "metadata": {},
   "outputs": [],
   "source": [
    "# https://pandas.pydata.org/pandas-docs/stable/reference/api/pandas.DataFrame.sample.html\n",
    "\n",
    "# в подвыборке оставим 3000 пользователей, т.к. для стат.тестов минимальный порог 2500\n",
    "\n",
    "df_ios_uniq_sample = df_ios_uniq.sample(n=3000, random_state=1)\n",
    "df_android_uniq_sample = df_android_uniq.sample(n=3000, random_state=1)"
   ]
  },
  {
   "cell_type": "code",
   "execution_count": 35,
   "metadata": {},
   "outputs": [
    {
     "name": "stdout",
     "output_type": "stream",
     "text": [
      "конерсия полной выборки уникальных пользователей ios 0.8570517111854304\n",
      "конерсия подвыборки 3000 уникальных пользователей android 0.8631492063492064\n",
      "конерсия полной выборки уникальных пользователей ios 0.7759445397700613\n",
      "конерсия подвыборки 3000 уникальных пользователей android 0.7817376984126978\n"
     ]
    }
   ],
   "source": [
    "# проверим конверсию для выборки и подвыборки\n",
    "print('конерсия полной выборки уникальных пользователей ios', df_ios_uniq['order_made'].mean())\n",
    "print('конерсия подвыборки 3000 уникальных пользователей android', df_ios_uniq_sample['order_made'].mean())\n",
    "\n",
    "print('конерсия полной выборки уникальных пользователей ios', df_android_uniq['order_made'].mean())\n",
    "print('конерсия подвыборки 3000 уникальных пользователей android', df_android_uniq_sample['order_made'].mean())"
   ]
  },
  {
   "cell_type": "markdown",
   "metadata": {},
   "source": [
    "Проверьте однородность с помощью t-теста, предполагая, что ЦПТ выполняется"
   ]
  },
  {
   "cell_type": "code",
   "execution_count": 36,
   "metadata": {},
   "outputs": [
    {
     "name": "stdout",
     "output_type": "stream",
     "text": [
      "Отвергаем нулевую гипотезу, количество отказов различается, statistic - -7.601923031380705  pvalue - 0.0\n"
     ]
    }
   ],
   "source": [
    "result_tt = st.ttest_ind(df_ios_uniq_sample['user_cancelled'], df_android_uniq_sample['user_cancelled'], equal_var=False)\n",
    "alpha = 0.05\n",
    "if (result_tt.pvalue < alpha):\n",
    "    print(f'Отвергаем нулевую гипотезу, количество отказов различается, statistic - {result_tt.statistic}  pvalue - {round(result_tt.pvalue, 5)}')\n",
    "else:\n",
    "    print(f'Не отвергаем нулевую гипотезу, отказы в обеих группах одинаковые, statistic - {result_tt.statistic}  pvalue - {round(result_tt.pvalue, 5)}')"
   ]
  },
  {
   "cell_type": "markdown",
   "metadata": {},
   "source": [
    "statistic отрицательный, следовательно, пользователи iOS совершают меньше отказов"
   ]
  },
  {
   "cell_type": "code",
   "execution_count": null,
   "metadata": {},
   "outputs": [],
   "source": []
  },
  {
   "cell_type": "markdown",
   "metadata": {},
   "source": [
    "Проверьте однородность с помощью рангового критерия"
   ]
  },
  {
   "cell_type": "code",
   "execution_count": 37,
   "metadata": {},
   "outputs": [
    {
     "name": "stdout",
     "output_type": "stream",
     "text": [
      "конверсия различается. statistic - 4001932.5 pvalue - 0.0\n"
     ]
    }
   ],
   "source": [
    "result_mw = mannwhitneyu(df_ios_uniq_sample['user_cancelled'], df_android_uniq_sample['user_cancelled'])\n",
    "if result_mw.pvalue < alpha and result_mw.statistic > 0:\n",
    "    print(f'конверсия различается. statistic - {result_mw.statistic} pvalue - {round(result_mw.pvalue, 5)}')\n",
    "else:\n",
    "    print(f'конверсия не различается. statistic - {result_mw.statistic} pvalue - {round(result_mw.pvalue, 5)}')"
   ]
  },
  {
   "cell_type": "code",
   "execution_count": null,
   "metadata": {},
   "outputs": [],
   "source": []
  },
  {
   "cell_type": "markdown",
   "metadata": {},
   "source": [
    "Проверьте однородность с помощью бакетинга/бутстрапа  \n",
    "  \n",
    "бутстрап"
   ]
  },
  {
   "cell_type": "code",
   "execution_count": 39,
   "metadata": {},
   "outputs": [
    {
     "name": "stdout",
     "output_type": "stream",
     "text": [
      "пользователи iOS совершают меньше отказов. pvalue - 0.0, доверительный интервал [0.11, 0.15]\n"
     ]
    }
   ],
   "source": [
    "means = []\n",
    "for i in range(10000):\n",
    "    ios = df_ios_uniq_sample.sample(frac=1, replace=True).ride_completed.mean()\n",
    "    android = df_android_uniq_sample.sample(frac=1, replace=True).ride_completed.mean()\n",
    "    means.append(ios - android)\n",
    "#расчет доверительного интервала\n",
    "pd_means = pd.DataFrame(means)\n",
    "confidence_interval = pd_means.quantile([0.025, 0.975])\n",
    "#расчет p_value\n",
    "p_1 = norm.cdf(x = 0, loc = np.mean(means), scale = np.std(means))\n",
    "p_2 = norm.cdf(x = 0, loc = -np.mean(means), scale = np.std(means))\n",
    "p_value = min(p_1, p_2) * 2\n",
    "if p_value < alpha and list(confidence_interval[0])[0] > 0:\n",
    "    print(f'пользователи iOS совершают меньше отказов. pvalue - {round(p_value, 5)}, доверительный интервал {[round(v,2) for v in confidence_interval[0].tolist()]}')\n",
    "elif p_value < alpha and list(confidence_interval[0])[0] < 0:      \n",
    "    print(f'пользователи Android совершают меньше отказов. pvalue - {round(p_value, 5)}, доверительный интервал {[round(v,2) for v in confidence_interval[0].tolist()]}')\n",
    "else:\n",
    "    print(f'количество отказов в обеих группах не зависит от ОС. pvalue - {round(p_value, 5)}, доверительный интервал {[round(v,2) for v in confidence_interval[0].tolist()]}')"
   ]
  }
 ],
 "metadata": {
  "kernelspec": {
   "display_name": "Python 3",
   "language": "python",
   "name": "python3"
  },
  "language_info": {
   "codemirror_mode": {
    "name": "ipython",
    "version": 3
   },
   "file_extension": ".py",
   "mimetype": "text/x-python",
   "name": "python",
   "nbconvert_exporter": "python",
   "pygments_lexer": "ipython3",
   "version": "3.7.6"
  }
 },
 "nbformat": 4,
 "nbformat_minor": 4
}
